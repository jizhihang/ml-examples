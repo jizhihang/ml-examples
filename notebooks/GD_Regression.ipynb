{
 "cells": [
  {
   "cell_type": "markdown",
   "metadata": {},
   "source": [
    "# Linear regression with gradient descent"
   ]
  },
  {
   "cell_type": "code",
   "execution_count": 1,
   "metadata": {
    "collapsed": false
   },
   "outputs": [
    {
     "name": "stdout",
     "output_type": "stream",
     "text": [
      "Populating the interactive namespace from numpy and matplotlib\n"
     ]
    }
   ],
   "source": [
    "%pylab inline"
   ]
  },
  {
   "cell_type": "markdown",
   "metadata": {},
   "source": [
    "## 1. Generate some data\n",
    "\n",
    "Uniformally sample x from 0 to 1. Generate y from x using a fixed linear transform:\n",
    "$$\n",
    "y = 2.5 x + 3\n",
    "$$\n",
    "and add some Gaussian noise."
   ]
  },
  {
   "cell_type": "code",
   "execution_count": 21,
   "metadata": {
    "collapsed": true
   },
   "outputs": [],
   "source": [
    "np.random.seed(42)"
   ]
  },
  {
   "cell_type": "code",
   "execution_count": 22,
   "metadata": {
    "collapsed": true
   },
   "outputs": [],
   "source": [
    "def generate_data(n=100):\n",
    "    xs = np.random.rand(n)\n",
    "    ys = 2.5 * xs + 3.0 + np.random.randn(n) * 0.2\n",
    "    return xs[:, np.newaxis], ys"
   ]
  },
  {
   "cell_type": "code",
   "execution_count": 23,
   "metadata": {
    "collapsed": false
   },
   "outputs": [
    {
     "data": {
      "text/plain": [
       "<matplotlib.text.Text at 0x7fd08ad5a190>"
      ]
     },
     "execution_count": 23,
     "metadata": {},
     "output_type": "execute_result"
    },
    {
     "data": {
      "image/png": "[encoded data removed]",
      "text/plain": [
       "<matplotlib.figure.Figure at 0x7fd08aad3d50>"
      ]
     },
     "metadata": {},
     "output_type": "display_data"
    }
   ],
   "source": [
    "X, y = generate_data()\n",
    "scatter(X.ravel(), y)\n",
    "title('Generated data')\n",
    "xlabel('x')\n",
    "ylabel('y')"
   ]
  },
  {
   "cell_type": "markdown",
   "metadata": {},
   "source": [
    "## 2. Define the model, loss, and gradient\n",
    "\n",
    "The model is a linear function:\n",
    "$$\n",
    "f(x, w, b) = w^T x + b\n",
    "$$\n",
    "\n",
    "We use square (Euclidean) loss:\n",
    "$$\n",
    "L = \\frac{1}{2N} \\sum_{i=1}^{N} (f(x_i) - y_i)^2\n",
    "$$\n",
    "\n",
    "The gradient of $L$ wrt. $w$ is:\n",
    "$$\n",
    "\\Delta_w L = \\frac{1}{N} \\sum_{i=1}^{N} (f(x_i) - y_i) x_i\n",
    "$$\n",
    "\n",
    "And wrt. the bias:\n",
    "$$\n",
    "\\Delta_b L = \\frac{1}{N} \\sum_{i=1}^{N} (f(x_i) - y_i) \n",
    "$$"
   ]
  },
  {
   "cell_type": "code",
   "execution_count": 24,
   "metadata": {
    "collapsed": true
   },
   "outputs": [],
   "source": [
    "def predict(X, w, b):\n",
    "    return np.dot(X, w) + b\n",
    "\n",
    "def mean_square_error(p, y):\n",
    "    return 0.5 * np.mean((p-y)**2)\n",
    "\n",
    "def loss(X, y, w, b):\n",
    "    p = predict(X, w, b)\n",
    "    return mean_square_error(p, y)\n",
    "\n",
    "def d_loss(X, y, w, b):\n",
    "    y = y.ravel()\n",
    "    p = predict(X, w, b)\n",
    "    dw = ((p - y)[:, np.newaxis] * X).mean(axis=0)\n",
    "    db = (p - y).mean()\n",
    "    return dw, db"
   ]
  },
  {
   "cell_type": "markdown",
   "metadata": {},
   "source": [
    "## 3. Gradient descent"
   ]
  },
  {
   "cell_type": "code",
   "execution_count": 25,
   "metadata": {
    "collapsed": false
   },
   "outputs": [],
   "source": [
    "def gradient_descent_optimize(X, y, loss, d_loss, lr=1e-3, epochs=2000):\n",
    "    \n",
    "    # initialize weights and bias\n",
    "    w = np.zeros(X.shape[1]) \n",
    "    b = 1\n",
    "    \n",
    "    # set the initial learning rate\n",
    "    alpha = lr\n",
    "    \n",
    "    # save learning curves to losses\n",
    "    losses = []\n",
    "    \n",
    "    for i in range(epochs):\n",
    "        \n",
    "        # compute loss\n",
    "        L = loss(X, y, w, b)\n",
    "        \n",
    "        # print loss\n",
    "        if i % 10 == 0:\n",
    "            print('Epoch {} Loss: {}'.format(i, L))\n",
    "            \n",
    "        # compute gradient of loss wrt parameters\n",
    "        dw, db = d_loss(X, y, w, b)\n",
    "        \n",
    "        # update parameters\n",
    "        w = w - alpha * dw\n",
    "        b = b - alpha * db\n",
    "        \n",
    "        # save loss\n",
    "        losses.append(L)\n",
    "        \n",
    "    return w, b, losses"
   ]
  },
  {
   "cell_type": "code",
   "execution_count": 26,
   "metadata": {
    "collapsed": false
   },
   "outputs": [
    {
     "name": "stdout",
     "output_type": "stream",
     "text": [
      "Epoch 0 Loss: 5.311218477\n",
      "Epoch 10 Loss: 0.435240816531\n",
      "Epoch 20 Loss: 0.0827178676335\n",
      "Epoch 30 Loss: 0.0527678697662\n",
      "Epoch 40 Loss: 0.0464127358886\n",
      "Epoch 50 Loss: 0.0422957158306\n",
      "Epoch 60 Loss: 0.0388232615013\n",
      "Epoch 70 Loss: 0.0358177256171\n",
      "Epoch 80 Loss: 0.0332107091357\n",
      "Epoch 90 Loss: 0.0309489698596\n",
      "Epoch 100 Loss: 0.0289867502559\n",
      "Epoch 110 Loss: 0.0272843832327\n",
      "Epoch 120 Loss: 0.0258074569195\n",
      "Epoch 130 Loss: 0.0245261166902\n",
      "Epoch 140 Loss: 0.0234144615116\n",
      "Epoch 150 Loss: 0.0224500203681\n",
      "Epoch 160 Loss: 0.0216132980306\n",
      "Epoch 170 Loss: 0.0208873809805\n",
      "Epoch 180 Loss: 0.0202575955187\n",
      "Epoch 190 Loss: 0.0197112111517\n",
      "Epoch 200 Loss: 0.0192371832573\n",
      "Epoch 210 Loss: 0.0188259298277\n",
      "Epoch 220 Loss: 0.0184691377797\n",
      "Epoch 230 Loss: 0.0181595949129\n",
      "Epoch 240 Loss: 0.0178910441229\n",
      "Epoch 250 Loss: 0.0176580569196\n",
      "Epoch 260 Loss: 0.017455923696\n",
      "Epoch 270 Loss: 0.0172805585279\n",
      "Epoch 280 Loss: 0.0171284165808\n",
      "Epoch 290 Loss: 0.0169964224551\n",
      "Epoch 300 Loss: 0.0168819080193\n",
      "Epoch 310 Loss: 0.0167825584769\n",
      "Epoch 320 Loss: 0.0166963655744\n",
      "Epoch 330 Loss: 0.0166215870072\n",
      "Epoch 340 Loss: 0.0165567112002\n",
      "Epoch 350 Loss: 0.0165004267528\n",
      "Epoch 360 Loss: 0.0164515959301\n",
      "Epoch 370 Loss: 0.0164092316652\n",
      "Epoch 380 Loss: 0.0163724776062\n",
      "Epoch 390 Loss: 0.0163405908058\n",
      "Epoch 400 Loss: 0.0163129267039\n",
      "Epoch 410 Loss: 0.0162889260977\n",
      "Epoch 420 Loss: 0.0162681038387\n",
      "Epoch 430 Loss: 0.0162500390254\n",
      "Epoch 440 Loss: 0.0162343664953\n",
      "Epoch 450 Loss: 0.0162207694437\n",
      "Epoch 460 Loss: 0.0162089730195\n",
      "Epoch 470 Loss: 0.0161987387697\n",
      "Epoch 480 Loss: 0.016189859819\n",
      "Epoch 490 Loss: 0.016182156688\n"
     ]
    },
    {
     "data": {
      "text/plain": [
       "[<matplotlib.lines.Line2D at 0x7fd08aa137d0>]"
      ]
     },
     "execution_count": 26,
     "metadata": {},
     "output_type": "execute_result"
    },
    {
     "data": {
      "image/png": "[encoded data removed]",
      "text/plain": [
       "<matplotlib.figure.Figure at 0x7fd08aca2f10>"
      ]
     },
     "metadata": {},
     "output_type": "display_data"
    }
   ],
   "source": [
    "w, b, losses = gradient_descent_optimize(X, y, loss, d_loss, lr=0.1, epochs=500)\n",
    "plot(losses)"
   ]
  },
  {
   "cell_type": "code",
   "execution_count": 27,
   "metadata": {
    "collapsed": false
   },
   "outputs": [
    {
     "name": "stdout",
     "output_type": "stream",
     "text": [
      "[ 2.37666051] 3.05889975013\n"
     ]
    }
   ],
   "source": [
    "print w, b"
   ]
  },
  {
   "cell_type": "markdown",
   "metadata": {},
   "source": [
    "## 4. Plot the regression line"
   ]
  },
  {
   "cell_type": "code",
   "execution_count": 28,
   "metadata": {
    "collapsed": false
   },
   "outputs": [
    {
     "data": {
      "image/png": "[encoded data removed]",
      "text/plain": [
       "<matplotlib.figure.Figure at 0x7fd08ab64a10>"
      ]
     },
     "metadata": {},
     "output_type": "display_data"
    }
   ],
   "source": [
    "scatter(X.ravel(), y)\n",
    "\n",
    "def plotline(w, b, x0, x1):\n",
    "    y0 = w * x0 + b\n",
    "    y1 = w * x1 + b\n",
    "    xs = linspace(x0, x1, 100)\n",
    "    ys = linspace(y0, y1, 100)\n",
    "    plot(xs, ys, 'r')\n",
    "    \n",
    "plotline(w, b, -0.1, 1.1)"
   ]
  },
  {
   "cell_type": "code",
   "execution_count": null,
   "metadata": {
    "collapsed": true
   },
   "outputs": [],
   "source": []
  }
 ],
 "metadata": {
  "kernelspec": {
   "display_name": "Python 2",
   "language": "python",
   "name": "python2"
  },
  "language_info": {
   "codemirror_mode": {
    "name": "ipython",
    "version": 2
   },
   "file_extension": ".py",
   "mimetype": "text/x-python",
   "name": "python",
   "nbconvert_exporter": "python",
   "pygments_lexer": "ipython2",
   "version": "2.7.6"
  }
 },
 "nbformat": 4,
 "nbformat_minor": 0
}
